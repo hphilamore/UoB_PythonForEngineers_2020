{
 "cells": [
  {
   "cell_type": "markdown",
   "metadata": {
    "slideshow": {
     "slide_type": "slide"
    }
   },
   "source": [
    "<img src=\"img/full-colour-logo-UoB.png\" alt=\"Drawing\" style=\"width: 200px;\"/>\n",
    "\n",
    "# Introduction to Programming for Engineers\n",
    "\n",
    "## Python 3\n",
    "\n",
    "\n"
   ]
  },
  {
   "cell_type": "markdown",
   "metadata": {
    "slideshow": {
     "slide_type": "slide"
    }
   },
   "source": [
    "# 1 Course Introduction"
   ]
  },
  {
   "cell_type": "markdown",
   "metadata": {
    "slideshow": {
     "slide_type": "slide"
    }
   },
   "source": [
    "## Why study programming?\n",
    "- Increased use of computing in everyday life.\n",
    "- A tool you can use for the other subject you study. \n",
    "- A growing sector of the jobs market.\n",
    "- Coding in jobs, not traditionally related to computing.\n",
    "- It's fun!"
   ]
  },
  {
   "cell_type": "markdown",
   "metadata": {
    "slideshow": {
     "slide_type": "slide"
    }
   },
   "source": [
    "## Why study Python?\n",
    " - Free and open source\n",
    " - Easy to learn\n",
    " - \"High level\" \n",
    " - Community\n",
    " - Increasingly used in industry\n",
    " "
   ]
  },
  {
   "cell_type": "markdown",
   "metadata": {
    "slideshow": {
     "slide_type": "slide"
    }
   },
   "source": [
    "## Course Goal\n",
    "\n",
    "To develop:\n",
    "\n",
    "- A good standalone programming toolkit.\n",
    "- Skills to improve the quality of your work in other subjects. \n",
    "- A fundamental base from which to start developing further as a programmer. \n"
   ]
  },
  {
   "cell_type": "markdown",
   "metadata": {
    "slideshow": {
     "slide_type": "slide"
    }
   },
   "source": [
    "## Course Entry Level\n",
    "\n",
    "Beginner, no prior programming knowlegde.\n",
    "<br>Preparation for first year (and upwards), engineering / engineering-related major. "
   ]
  },
  {
   "cell_type": "markdown",
   "metadata": {
    "slideshow": {
     "slide_type": "slide"
    }
   },
   "source": [
    "## How To Access the Course Material\n",
    "\n",
    "The course notes can be downloaded from:\n",
    "<br>https://github.com/hphilamore/UoB_PythonForEngineers_2020\n",
    "\n",
    "The course notes are interactive code workbooks (Jupyter notebooks).\n",
    "\n",
    "They can be viewed online (non-interactively) or opened (interactively) on your computer using __Jupyter Notebook__. \n",
    "<br>We will install this program later."
   ]
  },
  {
   "cell_type": "markdown",
   "metadata": {
    "slideshow": {
     "slide_type": "slide"
    }
   },
   "source": [
    "## Course Content\n",
    "\n",
    "__Fundamentals of Programming__ (7 notebooks)\n",
    "<br>1 Operators, data types, and control flow\n",
    "<br>2 Data structures and library functions\n",
    "<br>3 Plotting and analysing \n",
    "<br>4 User defined functions and libraries\n",
    "<br>5 Scipy and Numpy: Algebra \n",
    "<br>6 Scipy and Numpy: Calculus \n",
    "<br>7 Representing mathematical problems\n",
    "   \n",
    "__Applications of Programming__ (6 notebooks)\n",
    "<br>8 Working with data (Intro to data science)\n",
    "<br>9-10 Machine Learning \n",
    "<br>11-12 Simulation "
   ]
  },
  {
   "cell_type": "markdown",
   "metadata": {
    "slideshow": {
     "slide_type": "slide"
    }
   },
   "source": [
    "## Class Structure\n",
    "The course notes are divided into __Class Material__, and __Supplementary Material__.\n",
    "\n",
    "__Class Material__\n",
    "<br>These notebooks focus on example uses of programming skills. \n",
    "- __Theory__ and worked examples\n",
    "- __Practical__ review exercises\n",
    "\n",
    "\n",
    "__Supplementary Material__\n",
    "<br>These notebooks provide additional material needed to understand some of the examples in the __Class Material__.  <br>Complete the __Supplementary Material__ before each class.\n",
    "<br>*And/or* refer to the __Supplementary Material__ as a reference during the class. "
   ]
  },
  {
   "cell_type": "markdown",
   "metadata": {
    "slideshow": {
     "slide_type": "slide"
    }
   },
   "source": [
    "# 2 Practical\n",
    "\n",
    "<br>__Part A__ Software Installation \n",
    "<br>__Part B__ Running Python in different enviornments\n",
    "<br>__Part C__ Download course notes\n",
    "\n",
    "The course notes, including today's notes can be found at: https://github.com/hphilamore/UoB_PythonForEngineers_2020\n",
    "\n",
    "Open __00_Introduction.ipynb__ and follow the instructions to complete the practical part of today's class...\n",
    "\n"
   ]
  },
  {
   "cell_type": "markdown",
   "metadata": {
    "slideshow": {
     "slide_type": "slide"
    }
   },
   "source": [
    "## Part A : Software Installation \n",
    "\n",
    "__Anaconda__ (which includes Jupyter notebook) can be downloaded from: <br>https://www.anaconda.com/download/\n",
    "><br>Windows, Mac and Linux versions are available\n",
    "><br>Python 3.6 version and Python 2.7 version are available.\n",
    "><br>Choose Python 3.6 version"
   ]
  },
  {
   "cell_type": "markdown",
   "metadata": {
    "slideshow": {
     "slide_type": "slide"
    }
   },
   "source": [
    "## Part B : Running Python in Different Enviornments\n",
    "\n",
    "\n",
    "There are different *environments* in which we can write and run python code. \n",
    "\n",
    "Each environment has different advantages and is suitable for different work types. "
   ]
  },
  {
   "cell_type": "markdown",
   "metadata": {
    "slideshow": {
     "slide_type": "slide"
    }
   },
   "source": [
    "## Python Environments - Jupyter Notebook\n",
    "\n",
    "Jupyter notebook was installed on your computer with Anaconda.  \n",
    "\n",
    "To launch Jupyter notebook choose Jupyter notebook from your computer's programs menu. \n",
    "\n",
    "If using Mac/Linux you can alternatively launch the program by typing:\n",
    "\n",
    " >   `jupyter notebook`\n",
    "\n",
    "in the terminal type and pressing enter."
   ]
  },
  {
   "cell_type": "markdown",
   "metadata": {},
   "source": [
    "### To open the course notes in new Jupyter Notebook file\n",
    "You can view the course notes (non-interactively) via a *web browser* or (interactively) using *Jupyter notebook*. \n",
    "\n",
    "To open the course notes *first* open the Jupyter Notebook, then choose File >> Open and select the file you want to open. <br>Trying to open a Jupyter Notebook (.ipynb) file by double clicking on the file in your computer's filesystem menu without first opening the program will not work. "
   ]
  },
  {
   "cell_type": "markdown",
   "metadata": {
    "slideshow": {
     "slide_type": "slide"
    }
   },
   "source": [
    "### To create a new Jupyter Notebook \n",
    "\n",
    "Click New\n",
    "<br>Choose Notebook, Python 3\n",
    "\n",
    "<img src=\"img/new_notebook.png\" alt=\"Drawing\" style=\"width: 600px;\"/>"
   ]
  },
  {
   "cell_type": "markdown",
   "metadata": {
    "slideshow": {
     "slide_type": "slide"
    }
   },
   "source": [
    "Open the Jupyter notebook file you just created.\n",
    "\n",
    "You can type python code in the boxes.\n",
    "\n",
    "You can run the code by pressing:\n",
    "\n",
    ">\"Shift\" + \"Enter\"\n",
    "\n",
    "Let's write come code!"
   ]
  },
  {
   "cell_type": "markdown",
   "metadata": {
    "slideshow": {
     "slide_type": "slide"
    }
   },
   "source": [
    "In the first cell enter:\n",
    "```python\n",
    "1 + 2\n",
    "```\n",
    "\n",
    "Press:\n",
    "\n",
    ">\"Shift\" + \"Enter\"\n",
    "\n",
    "<img src=\"img/jupyter_add_1_2.png\" alt=\"Drawing\" style=\"width: 600px;\"/>"
   ]
  },
  {
   "cell_type": "markdown",
   "metadata": {
    "slideshow": {
     "slide_type": "slide"
    }
   },
   "source": [
    "In the second cell enter:\n",
    "```python\n",
    "x = 2 + 3\n",
    "print(x)\n",
    "```\n",
    "\n",
    "Press:\n",
    "\n",
    ">\"Shift\" + \"Enter\"\n",
    "\n",
    "\n",
    "<img src=\"img/jupyter_x_val.png\" alt=\"Drawing\" style=\"width: 600px;\"/>"
   ]
  },
  {
   "cell_type": "markdown",
   "metadata": {
    "slideshow": {
     "slide_type": "slide"
    }
   },
   "source": [
    "In the third cell enter:\n",
    "```python\n",
    "y = x - 2\n",
    "print(y)\n",
    "```\n",
    "\n",
    "Press:\n",
    "\n",
    ">\"Shift\" + \"Enter\"\n",
    "\n",
    "<img src=\"img/jupyter_y_val.png\" alt=\"Drawing\" style=\"width: 600px;\"/>"
   ]
  },
  {
   "cell_type": "markdown",
   "metadata": {
    "collapsed": true,
    "slideshow": {
     "slide_type": "slide"
    }
   },
   "source": [
    "Cells are executed in the order that the user runs them. \n",
    "\n",
    "By convention, Jupyter notebooks are __expected__ to be run from top to bottom. \n",
    "\n",
    "If you skip a cell or run the cells in a different order you may get unexpected behaviour."
   ]
  },
  {
   "cell_type": "markdown",
   "metadata": {
    "slideshow": {
     "slide_type": "slide"
    }
   },
   "source": [
    "For example, in the next cell enter:\n",
    "```python\n",
    "x = 10\n",
    "```\n",
    "\n",
    "then re-run the cell above containing:\n",
    "```python\n",
    "y = x - 2\n",
    "print(y)\n",
    "\n",
    "```\n",
    "and you should see the value of y change. \n",
    "\n",
    "The original value of `x` has been replaced by the new definition `x = 10`.\n",
    "\n",
    "<img src=\"img/jupyter_change_value.png\" alt=\"Drawing\" style=\"width: 500px;\"/>"
   ]
  },
  {
   "cell_type": "markdown",
   "metadata": {
    "slideshow": {
     "slide_type": "slide"
    }
   },
   "source": [
    "Now run the cell containing: \n",
    "    \n",
    "```python\n",
    "x = 2 + 3\n",
    "```\n",
    "then the cell containing:\n",
    "```python\n",
    "y = x - 2\n",
    "print(y)\n",
    "\n",
    "```\n",
    "and you will see the value of `y` change back to it's original value. \n",
    "\n",
    "<img src=\"img/jupyter_value_change2.png\" alt=\"Drawing\" style=\"width: 500px;\"/>\n",
    "\n"
   ]
  },
  {
   "cell_type": "markdown",
   "metadata": {
    "slideshow": {
     "slide_type": "slide"
    }
   },
   "source": [
    "To run all the cells sequentially from top to bottom click:\n",
    "\n",
    "Cell >> Run All\n",
    "\n",
    "This menu also contains other options for running cells. "
   ]
  },
  {
   "cell_type": "markdown",
   "metadata": {
    "slideshow": {
     "slide_type": "slide"
    }
   },
   "source": [
    "## Software : Python Environments - Python interpreter\n",
    "\n",
    "Let's open a terminal...\n",
    "\n",
    "##### Windows\n",
    " - press \"win key\" + \"R\"\n",
    " - type: __cmd__\n",
    " - press enter\n",
    "\n",
    "##### Mac\n",
    " - open Applications >> Utilities >> Terminal\n"
   ]
  },
  {
   "cell_type": "markdown",
   "metadata": {
    "slideshow": {
     "slide_type": "slide"
    }
   },
   "source": [
    "A terminal will launch.\n",
    "\n",
    "<table>\n",
    "    <tr>\n",
    "        <th></th>\n",
    "        <th></th>\n",
    "    </tr>\n",
    "    <tr>\n",
    "        <td><img src='img/winterm_.png' style=\"width: 300px;\"> </td>\n",
    "        <td><img src='img/macterm_.png' style=\"width: 300px;\"> </td> \n",
    "    </tr>\n",
    "    <tr>\n",
    "        <td>Windows Terminal</td>\n",
    "        <td>Mac Terminal</td> \n",
    "    </tr>\n",
    "</table>\n",
    "\n"
   ]
  },
  {
   "cell_type": "markdown",
   "metadata": {
    "slideshow": {
     "slide_type": "slide"
    }
   },
   "source": [
    "\n",
    "\n",
    "We can start the interpreter by typing \n",
    ">``python3`` \n",
    "\n",
    "in the terminal.\n",
    "\n",
    "The command prompt changes to:\n",
    ">``>>>``\n",
    "\n",
    "##### Warning : In newer versions of windows this may not work (your PC may say \"Python is not installed\")\n",
    "If this happens please also download the newest version of Python 3 from: \n",
    "<br>https://www.python.org/downloads/windows/\n",
    "\n",
    "After installation completes, the typing `python3` should launch the interpreter. \n"
   ]
  },
  {
   "cell_type": "markdown",
   "metadata": {
    "slideshow": {
     "slide_type": "slide"
    }
   },
   "source": [
    "## Software : Python Environments - Spyder\n",
    "\n",
    "Spyder is an integrated development environment (IDE). \n",
    "\n",
    "An IDE is a program used to write and edit code.\n",
    "\n",
    "Spyder was installed on your computer with Anaconda.  \n",
    "\n",
    "To launch spyder choose Spyder from your computer's start menu. \n",
    "\n",
    "If using Mac/Linux you can alternatively launch the program by typing:\n",
    "\n",
    " >   `spyder`\n",
    "\n",
    "in the terminal type and pressing enter."
   ]
  },
  {
   "cell_type": "markdown",
   "metadata": {
    "slideshow": {
     "slide_type": "slide"
    }
   },
   "source": [
    "### Writing and running code in the Spyder IDE \n",
    "You can write code by tying in the box on the left (editor). \n",
    "For example, try typing:\n",
    "\n",
    "```python\n",
    "print('hello')\n",
    "```\n",
    "\n",
    "You can run the code you have typed by clicking the green triangle in the menu bar at the top of the window.\n",
    "\n",
    "<img src=\"img/run_spyder.png\" alt=\"Drawing\" style=\"width: 300px;\"/>\n",
    "\n",
    "The output should appear in the box on the bottom right (console)\n",
    "\n",
    "The box in the top, right can be used to diplay the file system or stored variables."
   ]
  },
  {
   "cell_type": "markdown",
   "metadata": {
    "slideshow": {
     "slide_type": "slide"
    }
   },
   "source": [
    "### Save your code\n",
    "\n",
    "Click:\n",
    "\n",
    "File >> Save as \n",
    "\n",
    "Save your file with `.py` extension.  \n"
   ]
  },
  {
   "cell_type": "markdown",
   "metadata": {
    "slideshow": {
     "slide_type": "slide"
    }
   },
   "source": [
    "## Introduction to the Command Line. \n",
    "\n",
    "Let's open a terminal...\n",
    "\n",
    "##### Windows\n",
    " - press \"win key\" + \"R\"\n",
    " - type: __cmd__\n",
    " - press enter\n",
    "\n",
    "##### Mac\n",
    " - open Applications >> Utilities >> Terminal\n"
   ]
  },
  {
   "cell_type": "markdown",
   "metadata": {
    "slideshow": {
     "slide_type": "slide"
    }
   },
   "source": [
    "A terminal will launch.\n",
    "\n",
    "\n",
    "<table>\n",
    "    <tr>\n",
    "        <th></th>\n",
    "        <th></th>\n",
    "    </tr>\n",
    "    <tr>\n",
    "        <td><img src='img/winterm_.png' style=\"width: 300px;\"> </td>\n",
    "        <td><img src='img/macterm_.png' style=\"width: 300px;\"> </td> \n",
    "    </tr>\n",
    "    <tr>\n",
    "        <td>Windows Terminal</td>\n",
    "        <td>Mac Terminal</td> \n",
    "    </tr>\n",
    "</table>\n",
    "\n",
    "\n",
    "\n",
    "Using the terminal, you will navigate to where you want to store the course notes. \n",
    "\n"
   ]
  },
  {
   "cell_type": "markdown",
   "metadata": {
    "slideshow": {
     "slide_type": "slide"
    }
   },
   "source": [
    "Type:\n",
    "\n",
    "##### Windows\n",
    ">`dir`\n",
    "\n",
    "##### Mac\n",
    ">`ls`\n",
    "\n",
    "..and press enter.\n",
    "\n",
    "You will see all the folders in your personal user area."
   ]
  },
  {
   "cell_type": "markdown",
   "metadata": {
    "slideshow": {
     "slide_type": "slide"
    }
   },
   "source": [
    "We can move down the filesystem of the computer by typing:\n",
    "\n",
    ">`cd`\n",
    "\n",
    "followed by the name of the folder we want to move to.\n",
    "\n",
    ">`cd Documents`\n",
    "\n"
   ]
  },
  {
   "cell_type": "markdown",
   "metadata": {
    "slideshow": {
     "slide_type": "slide"
    }
   },
   "source": [
    "The folder must be:\n",
    " - on the same branch\n",
    " - one step from our current location\n",
    "\n",
    "<img src=\"img/directory_tree.gif\" alt=\"Drawing\" style=\"width: 400px;\"/>"
   ]
  },
  {
   "cell_type": "markdown",
   "metadata": {
    "slideshow": {
     "slide_type": "slide"
    }
   },
   "source": [
    "Type:\n",
    "    \n",
    "##### Windows\n",
    ">`dir`\n",
    "\n",
    "##### Mac\n",
    ">`ls`\n",
    "\n",
    "again to view the contents of the folder that you have moved into."
   ]
  },
  {
   "cell_type": "markdown",
   "metadata": {
    "slideshow": {
     "slide_type": "slide"
    }
   },
   "source": [
    "To move back up by one step, type:\n",
    "    \n",
    ">`cd ..`\n",
    "\n",
    "Try this now.\n",
    "\n",
    "<img src=\"img/directory_tree.gif\" alt=\"Drawing\" style=\"width: 400px;\"/>"
   ]
  },
  {
   "cell_type": "markdown",
   "metadata": {
    "slideshow": {
     "slide_type": "slide"
    }
   },
   "source": [
    "## Running your program from the command line.\n",
    "\n",
    "Spyder and other IDEs provide a convenient way to write, run and save code.\n",
    "\n",
    "However, once you have saved your program you can run it without the need for another program. \n",
    "\n",
    "In the terminal, use `cd` to navigate to within the folder where you just saved your file."
   ]
  },
  {
   "cell_type": "markdown",
   "metadata": {
    "slideshow": {
     "slide_type": "slide"
    }
   },
   "source": [
    "Type:\n",
    "\n",
    "> `python3`\n",
    "\n",
    "...followed by a space, then the name of the program that you want to run. \n",
    "\n",
    "For example, to run a file ``my-program.py``: \n",
    "\n",
    "> `python my-program.py`"
   ]
  },
  {
   "cell_type": "markdown",
   "metadata": {
    "slideshow": {
     "slide_type": "slide"
    }
   },
   "source": [
    "### Creating Python files without using Spyder.\n",
    "In fact, you don't even need an IDE to create a Python file. \n",
    "\n",
    "You can write Python code in a normal text editor (Notepad (Windows), Wordpad (Windows), TextEdit (Mac), Text Editor (Ubuntu Linux).\n",
    "\n",
    "Provided you add the file extension .py when saving the file, you can run the file exactly the same way as we just did from the command line."
   ]
  },
  {
   "cell_type": "markdown",
   "metadata": {
    "slideshow": {
     "slide_type": "slide"
    }
   },
   "source": [
    "We will use:\n",
    "- __Jupyter notebook__ for short coding practise exercises.\n",
    "- __Spyder__ for longer, more complete programs. "
   ]
  },
  {
   "cell_type": "markdown",
   "metadata": {
    "slideshow": {
     "slide_type": "slide"
    }
   },
   "source": [
    "## Part C : Download the class notes\n",
    "\n",
    "Go to the Github URL from which you opened the course notes you are reading now: https://github.com/hphilamore/UoB_PythonForEngineers_2020 we  \n",
    "\n",
    "We are going to download the course notes.\n",
    "\n",
    "Click the button \"Clone or download\" and choose __Download ZIP__\n",
    "\n",
    "<img src=\"img/download_zip.png\" alt=\"Drawing\" style=\"width: 500px;\"/>\n",
    "\n",
    "Extract the files from the zipped folder: <br> __Windows__ : Right click >> Extract All... <br>__Mac__ : Double click the zipped file. The file will automatically be decompressed by Archive Utility into the same folder the compressed file is in. \n",
    "\n",
    "and move the extracted folder __UoB_PythonForEngineers_2020__ from Downloads to a location on your computer where you would like to access the files (e.g. Documents). "
   ]
  },
  {
   "cell_type": "markdown",
   "metadata": {
    "slideshow": {
     "slide_type": "slide"
    }
   },
   "source": [
    "## Opening the Course Notes Interactively using Jupyter Notebook\n",
    "\n",
    "In each class, we will open the course notes in Anaconda.\n",
    "\n",
    "This will allow you to complete exercises by writing and running code in the cells.\n",
    "\n",
    "Go to Jupyter Notebook now (you opened it earlier)\n",
    "\n",
    "Use the navigation bar on the home screen to choose the location in which you saved the class notes. \n",
    "\n",
    "e.g. my course notes are in Documents >> Code >> Jupyter_NBooks >> UoB_PythonForEngineers_2020\n",
    "\n",
    "<img src=\"img/jupyter_nav.png\" alt=\"Drawing\" style=\"width: 500px;\"/>"
   ]
  },
  {
   "cell_type": "markdown",
   "metadata": {
    "slideshow": {
     "slide_type": "slide"
    }
   },
   "source": [
    "Open the notes for today's class : `00_Introduction.ipynb`.\n",
    "\n",
    "\n",
    "During the course, you may add and run code in the cells provided but please do not edit existing cells. \n",
    "\n",
    "__Warning : Editing the existing cells will cause major problems when downloaded updated material from the online repository.__\n",
    "\n"
   ]
  },
  {
   "cell_type": "markdown",
   "metadata": {
    "slideshow": {
     "slide_type": "slide"
    }
   },
   "source": [
    "#### To begin the next class:\n",
    "1. Open  Jupyter Notebook and choose File >> Open \n",
    "1. Navigate to where you stored the downloaded repositroy\n",
    "1. Choose `01a_Operators_DataTypes__Primer.ipynb` and `01b_ControlFlow__Primer.ipynb` "
   ]
  },
  {
   "cell_type": "code",
   "execution_count": null,
   "metadata": {},
   "outputs": [],
   "source": []
  },
  {
   "cell_type": "code",
   "execution_count": null,
   "metadata": {},
   "outputs": [],
   "source": []
  }
 ],
 "metadata": {
  "celltoolbar": "Slideshow",
  "kernelspec": {
   "display_name": "Python 3",
   "language": "python",
   "name": "python3"
  },
  "language_info": {
   "codemirror_mode": {
    "name": "ipython",
    "version": 3
   },
   "file_extension": ".py",
   "mimetype": "text/x-python",
   "name": "python",
   "nbconvert_exporter": "python",
   "pygments_lexer": "ipython3",
   "version": "3.8.3"
  }
 },
 "nbformat": 4,
 "nbformat_minor": 2
}
